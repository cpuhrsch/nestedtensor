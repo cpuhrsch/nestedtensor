{
 "cells": [
  {
   "cell_type": "code",
   "execution_count": 1,
   "metadata": {},
   "outputs": [],
   "source": [
    "import torch\n",
    "import nestedtensor\n",
    "from IPython.display import Markdown, display\n",
    "def print_eval(s):\n",
    "    colorS = \"<span style='color:darkred'>$ {}</span>\".format(s)\n",
    "    display(Markdown('**{}**'.format(colorS))) \n",
    "    print('{}\\n'.format(str(eval(s))))"
   ]
  },
  {
   "cell_type": "code",
   "execution_count": 2,
   "metadata": {},
   "outputs": [],
   "source": [
    "import time as time_module\n",
    "def time(fn):\n",
    "    t0 = time_module.time()\n",
    "    count = 0\n",
    "    past = 0\n",
    "    while past < 10.0:\n",
    "        fn()\n",
    "        past = time_module.time() - t0\n",
    "        count += 1\n",
    "    past = past / count\n",
    "    return \"average {:2.4f}ms based on {} samples\".format(past * 1000, count)"
   ]
  },
  {
   "cell_type": "code",
   "execution_count": 6,
   "metadata": {},
   "outputs": [
    {
     "data": {
      "text/markdown": [
       "**<span style='color:darkred'>$ model(nt_text).nested_size()</span>**"
      ],
      "text/plain": [
       "<IPython.core.display.Markdown object>"
      ]
     },
     "metadata": {},
     "output_type": "display_data"
    },
    {
     "name": "stdout",
     "output_type": "stream",
     "text": [
      "NestedSize([\n",
      "\ttorch.Size([76, 5]),\n",
      "\ttorch.Size([74, 5]),\n",
      "\ttorch.Size([74, 5]),\n",
      "\ttorch.Size([76, 5])\n",
      "])\n",
      "\n"
     ]
    }
   ],
   "source": [
    "def generate_tensors(num_tensor, vocab_size):\n",
    "    sentence_lengths = torch.normal(75.0, 10.0, size=(num_tensor,)).long()\n",
    "    return [(torch.rand(l) * vocab_size).long() for l in sentence_lengths]\n",
    "\n",
    "class TextSentiment(torch.nn.Module):\n",
    "    def __init__(self, vocab_size, embed_dim, num_class):\n",
    "        super().__init__()\n",
    "        self.embedding = torch.nn.Embedding(vocab_size, embed_dim, sparse=True)\n",
    "        self.fc = torch.nn.Linear(embed_dim, num_class)\n",
    "        self.init_weights()\n",
    "\n",
    "    def init_weights(self):\n",
    "        initrange = 0.5\n",
    "        self.embedding.weight.data.uniform_(-initrange, initrange)\n",
    "        self.fc.weight.data.uniform_(-initrange, initrange)\n",
    "        self.fc.bias.data.zero_()\n",
    "\n",
    "    def forward(self, text):\n",
    "        emb = self.embedding(text)\n",
    "        return self.fc(emb)\n",
    "\n",
    "vocab_size = 10000\n",
    "model = TextSentiment(10000, 256, 5)\n",
    "nt_text = nestedtensor.nested_tensor(generate_tensors(4, 10000), dtype=torch.int64)\n",
    "print_eval(\"model(nt_text).nested_size()\")"
   ]
  },
  {
   "cell_type": "code",
   "execution_count": null,
   "metadata": {},
   "outputs": [],
   "source": []
  }
 ],
 "metadata": {
  "kernelspec": {
   "display_name": "Python 3",
   "language": "python",
   "name": "python3"
  },
  "language_info": {
   "codemirror_mode": {
    "name": "ipython",
    "version": 3
   },
   "file_extension": ".py",
   "mimetype": "text/x-python",
   "name": "python",
   "nbconvert_exporter": "python",
   "pygments_lexer": "ipython3",
   "version": "3.8.2"
  }
 },
 "nbformat": 4,
 "nbformat_minor": 2
}
