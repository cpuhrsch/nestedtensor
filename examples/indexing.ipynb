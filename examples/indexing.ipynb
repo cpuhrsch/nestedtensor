{
 "cells": [
  {
   "cell_type": "markdown",
   "metadata": {},
   "source": [
    "## Manipulating shape and indexing"
   ]
  },
  {
   "cell_type": "code",
   "execution_count": 1,
   "metadata": {},
   "outputs": [],
   "source": [
    "import torch\n",
    "import nestedtensor\n",
    "from IPython.display import Markdown, display\n",
    "\n",
    "def print_eval(s):\n",
    "    colorS = \"<span style='color:darkred'>$ {}</span>\".format(s)\n",
    "    display(Markdown('**{}**'.format(colorS))) \n",
    "    print('{}\\n'.format(str(eval(s))))"
   ]
  },
  {
   "cell_type": "code",
   "execution_count": 2,
   "metadata": {},
   "outputs": [
    {
     "data": {
      "text/markdown": [
       "**<span style='color:darkred'>$ nt2</span>**"
      ],
      "text/plain": [
       "<IPython.core.display.Markdown object>"
      ]
     },
     "metadata": {},
     "output_type": "display_data"
    },
    {
     "name": "stdout",
     "output_type": "stream",
     "text": [
      "nested_tensor([\n",
      "\tnested_tensor([\n",
      "\n",
      "\t\t 1.0000  0.5000\n",
      "\t\t 0.1000  0.6000\n",
      "\t\t[ CPUFloatType{2,2} ],\n",
      "\n",
      "\t\t 5.5000  3.3000\n",
      "\t\t 2.2000  6.6000\n",
      "\t\t[ CPUFloatType{2,2} ]\n",
      "\t]),\n",
      "\tnested_tensor([\n",
      "\n",
      "\t\t 3.0000  1.0000\n",
      "\t\t 0.5000  0.7000\n",
      "\t\t[ CPUFloatType{2,2} ],\n",
      "\n",
      "\t\t 5  4\n",
      "\t\t 1  2\n",
      "\t\t[ CPUFloatType{2,2} ]\n",
      "\t])\n",
      "])\n",
      "\n"
     ]
    }
   ],
   "source": [
    "nt2 = nestedtensor.nested_tensor(\n",
    "[\n",
    "    [\n",
    "        torch.tensor([[1.0, 0.5], [0.1, 0.6]]),\n",
    "        torch.tensor([[5.5, 3.3], [2.2, 6.6]])\n",
    "    ],\n",
    "    [\n",
    "        torch.tensor([[3.0, 1.0], [0.5, 0.7]]),\n",
    "        torch.tensor([[5.0, 4.0], [1.0, 2.0]])\n",
    "    ]\n",
    "])\n",
    "print_eval('nt2')"
   ]
  },
  {
   "cell_type": "code",
   "execution_count": 3,
   "metadata": {},
   "outputs": [
    {
     "data": {
      "text/markdown": [
       "**<span style='color:darkred'>$ nt2</span>**"
      ],
      "text/plain": [
       "<IPython.core.display.Markdown object>"
      ]
     },
     "metadata": {},
     "output_type": "display_data"
    },
    {
     "name": "stdout",
     "output_type": "stream",
     "text": [
      "nested_tensor([\n",
      "\tnested_tensor([\n",
      "\n",
      "\t\t 1.0000  0.5000\n",
      "\t\t 0.1000  0.6000\n",
      "\t\t[ CPUFloatType{2,2} ],\n",
      "\n",
      "\t\t 5.5000  3.3000\n",
      "\t\t 2.2000  6.6000\n",
      "\t\t[ CPUFloatType{2,2} ]\n",
      "\t]),\n",
      "\tnested_tensor([\n",
      "\n",
      "\t\t 3.0000  1.0000\n",
      "\t\t 0.5000  0.7000\n",
      "\t\t[ CPUFloatType{2,2} ],\n",
      "\n",
      "\t\t 5  4\n",
      "\t\t 1  2\n",
      "\t\t[ CPUFloatType{2,2} ]\n",
      "\t])\n",
      "])\n",
      "\n"
     ]
    },
    {
     "data": {
      "text/markdown": [
       "**<span style='color:darkred'>$ nt4</span>**"
      ],
      "text/plain": [
       "<IPython.core.display.Markdown object>"
      ]
     },
     "metadata": {},
     "output_type": "display_data"
    },
    {
     "name": "stdout",
     "output_type": "stream",
     "text": [
      "tensor([[[[1.0000, 0.5000],\n",
      "          [0.1000, 0.6000]],\n",
      "\n",
      "         [[5.5000, 3.3000],\n",
      "          [2.2000, 6.6000]]],\n",
      "\n",
      "\n",
      "        [[[3.0000, 1.0000],\n",
      "          [0.5000, 0.7000]],\n",
      "\n",
      "         [[5.0000, 4.0000],\n",
      "          [1.0000, 2.0000]]]])\n",
      "\n"
     ]
    },
    {
     "data": {
      "text/markdown": [
       "**<span style='color:darkred'>$ nt4.size()</span>**"
      ],
      "text/plain": [
       "<IPython.core.display.Markdown object>"
      ]
     },
     "metadata": {},
     "output_type": "display_data"
    },
    {
     "name": "stdout",
     "output_type": "stream",
     "text": [
      "torch.Size([2, 2, 2, 2])\n",
      "\n"
     ]
    }
   ],
   "source": [
    "nt4 = nt2.to_tensor()\n",
    "print_eval(\"nt2\")\n",
    "print_eval(\"nt4\")\n",
    "print_eval(\"nt4.size()\")\n",
    "# print_eval(\"nt4.nested_dim()\") Will crash. nt4 is a regular Tensor!\n",
    "# print_eval(\"nt4.nested_size()\") Will crash. nt4 is a regular Tensor!"
   ]
  },
  {
   "cell_type": "code",
   "execution_count": 4,
   "metadata": {},
   "outputs": [
    {
     "data": {
      "text/markdown": [
       "**<span style='color:darkred'>$ nt2</span>**"
      ],
      "text/plain": [
       "<IPython.core.display.Markdown object>"
      ]
     },
     "metadata": {},
     "output_type": "display_data"
    },
    {
     "name": "stdout",
     "output_type": "stream",
     "text": [
      "nested_tensor([\n",
      "\tnested_tensor([\n",
      "\n",
      "\t\t 1.0000  0.5000\n",
      "\t\t 0.1000  0.6000\n",
      "\t\t[ CPUFloatType{2,2} ],\n",
      "\n",
      "\t\t 5.5000  3.3000\n",
      "\t\t 2.2000  6.6000\n",
      "\t\t[ CPUFloatType{2,2} ]\n",
      "\t]),\n",
      "\tnested_tensor([\n",
      "\n",
      "\t\t 3.0000  1.0000\n",
      "\t\t 0.5000  0.7000\n",
      "\t\t[ CPUFloatType{2,2} ],\n",
      "\n",
      "\t\t 5  4\n",
      "\t\t 1  2\n",
      "\t\t[ CPUFloatType{2,2} ]\n",
      "\t])\n",
      "])\n",
      "\n"
     ]
    },
    {
     "data": {
      "text/markdown": [
       "**<span style='color:darkred'>$ nt2[0][0]</span>**"
      ],
      "text/plain": [
       "<IPython.core.display.Markdown object>"
      ]
     },
     "metadata": {},
     "output_type": "display_data"
    },
    {
     "name": "stdout",
     "output_type": "stream",
     "text": [
      "tensor([[1.0000, 0.5000],\n",
      "        [0.1000, 0.6000]])\n",
      "\n"
     ]
    },
    {
     "data": {
      "text/markdown": [
       "**<span style='color:darkred'>$ nt2[0, 0]</span>**"
      ],
      "text/plain": [
       "<IPython.core.display.Markdown object>"
      ]
     },
     "metadata": {},
     "output_type": "display_data"
    },
    {
     "name": "stdout",
     "output_type": "stream",
     "text": [
      "nested_tensor([\n",
      "\n",
      "\t 1.0000\n",
      "\t 0.5000\n",
      "\t[ CPUFloatType{2} ],\n",
      "\n",
      "\t 5.5000\n",
      "\t 3.3000\n",
      "\t[ CPUFloatType{2} ]\n",
      "])\n",
      "\n"
     ]
    },
    {
     "data": {
      "text/markdown": [
       "**<span style='color:darkred'>$ nt2[:, 0]</span>**"
      ],
      "text/plain": [
       "<IPython.core.display.Markdown object>"
      ]
     },
     "metadata": {},
     "output_type": "display_data"
    },
    {
     "name": "stdout",
     "output_type": "stream",
     "text": [
      "nested_tensor([\n",
      "\n",
      "\t 1.0000  0.5000\n",
      "\t 0.1000  0.6000\n",
      "\t[ CPUFloatType{2,2} ],\n",
      "\n",
      "\t 3.0000  1.0000\n",
      "\t 0.5000  0.7000\n",
      "\t[ CPUFloatType{2,2} ]\n",
      "])\n",
      "\n"
     ]
    },
    {
     "data": {
      "text/markdown": [
       "**<span style='color:darkred'>$ nt2[0, :]</span>**"
      ],
      "text/plain": [
       "<IPython.core.display.Markdown object>"
      ]
     },
     "metadata": {},
     "output_type": "display_data"
    },
    {
     "name": "stdout",
     "output_type": "stream",
     "text": [
      "nested_tensor([\n",
      "\n",
      "\t 1.0000  0.5000\n",
      "\t 0.1000  0.6000\n",
      "\t[ CPUFloatType{2,2} ],\n",
      "\n",
      "\t 5.5000  3.3000\n",
      "\t 2.2000  6.6000\n",
      "\t[ CPUFloatType{2,2} ]\n",
      "])\n",
      "\n"
     ]
    }
   ],
   "source": [
    "print_eval(\"nt2\")\n",
    "print_eval(\"nt2[0][0]\")\n",
    "print_eval(\"nt2[0, 0]\")\n",
    "print_eval(\"nt2[:, 0]\")\n",
    "print_eval(\"nt2[0, :]\")"
   ]
  },
  {
   "cell_type": "code",
   "execution_count": 5,
   "metadata": {},
   "outputs": [
    {
     "data": {
      "text/markdown": [
       "**<span style='color:darkred'>$ nt2</span>**"
      ],
      "text/plain": [
       "<IPython.core.display.Markdown object>"
      ]
     },
     "metadata": {},
     "output_type": "display_data"
    },
    {
     "name": "stdout",
     "output_type": "stream",
     "text": [
      "nested_tensor([\n",
      "\tnested_tensor([\n",
      "\n",
      "\t\t 1.0000  0.5000\n",
      "\t\t 0.1000  0.6000\n",
      "\t\t[ CPUFloatType{2,2} ],\n",
      "\n",
      "\t\t 5.5000  3.3000\n",
      "\t\t 2.2000  6.6000\n",
      "\t\t[ CPUFloatType{2,2} ]\n",
      "\t]),\n",
      "\tnested_tensor([\n",
      "\n",
      "\t\t 3.0000  1.0000\n",
      "\t\t 0.5000  0.7000\n",
      "\t\t[ CPUFloatType{2,2} ],\n",
      "\n",
      "\t\t 5  4\n",
      "\t\t 1  2\n",
      "\t\t[ CPUFloatType{2,2} ]\n",
      "\t])\n",
      "])\n",
      "\n"
     ]
    },
    {
     "data": {
      "text/markdown": [
       "**<span style='color:darkred'>$ nt2[:, :, (1, 0)]</span>**"
      ],
      "text/plain": [
       "<IPython.core.display.Markdown object>"
      ]
     },
     "metadata": {},
     "output_type": "display_data"
    },
    {
     "name": "stdout",
     "output_type": "stream",
     "text": [
      "nested_tensor([\n",
      "\tnested_tensor([\n",
      "\n",
      "\t\t 0.1000  0.6000\n",
      "\t\t 1.0000  0.5000\n",
      "\t\t[ CPUFloatType{2,2} ],\n",
      "\n",
      "\t\t 2.2000  6.6000\n",
      "\t\t 5.5000  3.3000\n",
      "\t\t[ CPUFloatType{2,2} ]\n",
      "\t]),\n",
      "\tnested_tensor([\n",
      "\n",
      "\t\t 0.5000  0.7000\n",
      "\t\t 3.0000  1.0000\n",
      "\t\t[ CPUFloatType{2,2} ],\n",
      "\n",
      "\t\t 1  2\n",
      "\t\t 5  4\n",
      "\t\t[ CPUFloatType{2,2} ]\n",
      "\t])\n",
      "])\n",
      "\n"
     ]
    }
   ],
   "source": [
    "# Advanced indexing is allowed over tensor dimensions\n",
    "print_eval(\"nt2\")\n",
    "print_eval(\"nt2[:, :, (1, 0)]\")"
   ]
  },
  {
   "cell_type": "code",
   "execution_count": 6,
   "metadata": {},
   "outputs": [
    {
     "data": {
      "text/markdown": [
       "**<span style='color:darkred'>$ nt2</span>**"
      ],
      "text/plain": [
       "<IPython.core.display.Markdown object>"
      ]
     },
     "metadata": {},
     "output_type": "display_data"
    },
    {
     "name": "stdout",
     "output_type": "stream",
     "text": [
      "nested_tensor([\n",
      "\tnested_tensor([\n",
      "\n",
      "\t\t 1.0000  0.5000\n",
      "\t\t 0.1000  0.6000\n",
      "\t\t[ CPUFloatType{2,2} ],\n",
      "\n",
      "\t\t 5.5000  3.3000\n",
      "\t\t 2.2000  6.6000\n",
      "\t\t[ CPUFloatType{2,2} ]\n",
      "\t]),\n",
      "\tnested_tensor([\n",
      "\n",
      "\t\t 3.0000  1.0000\n",
      "\t\t 0.5000  0.7000\n",
      "\t\t[ CPUFloatType{2,2} ],\n",
      "\n",
      "\t\t 5  4\n",
      "\t\t 1  2\n",
      "\t\t[ CPUFloatType{2,2} ]\n",
      "\t])\n",
      "])\n",
      "\n"
     ]
    },
    {
     "data": {
      "text/markdown": [
       "**<span style='color:darkred'>$ ind</span>**"
      ],
      "text/plain": [
       "<IPython.core.display.Markdown object>"
      ]
     },
     "metadata": {},
     "output_type": "display_data"
    },
    {
     "name": "stdout",
     "output_type": "stream",
     "text": [
      "tensor([[1, 0],\n",
      "        [0, 1]])\n",
      "\n"
     ]
    },
    {
     "data": {
      "text/markdown": [
       "**<span style='color:darkred'>$ nt2[:, :, ind]</span>**"
      ],
      "text/plain": [
       "<IPython.core.display.Markdown object>"
      ]
     },
     "metadata": {},
     "output_type": "display_data"
    },
    {
     "name": "stdout",
     "output_type": "stream",
     "text": [
      "nested_tensor([\n",
      "\tnested_tensor([\n",
      "\n",
      "\t\t(1,.,.) = \n",
      "\t\t  0.1000  0.6000\n",
      "\t\t  1.0000  0.5000\n",
      "\t\t...\n",
      "\t\t(2,.,.) = \n",
      "\t\t  1.0000  0.5000\n",
      "\t\t  0.1000  0.6000\n",
      "\t\t[ CPUFloatType{2,2,2} ],\n",
      "\n",
      "\t\t(1,.,.) = \n",
      "\t\t  2.2000  6.6000\n",
      "\t\t  5.5000  3.3000\n",
      "\t\t...\n",
      "\t\t(2,.,.) = \n",
      "\t\t  5.5000  3.3000\n",
      "\t\t  2.2000  6.6000\n",
      "\t\t[ CPUFloatType{2,2,2} ]\n",
      "\t]),\n",
      "\tnested_tensor([\n",
      "\n",
      "\t\t(1,.,.) = \n",
      "\t\t  0.5000  0.7000\n",
      "\t\t  3.0000  1.0000\n",
      "\t\t...\n",
      "\t\t(2,.,.) = \n",
      "\t\t  3.0000  1.0000\n",
      "\t\t  0.5000  0.7000\n",
      "\t\t[ CPUFloatType{2,2,2} ],\n",
      "\n",
      "\t\t(1,.,.) = \n",
      "\t\t  1  2\n",
      "\t\t  5  4\n",
      "\t\t...\n",
      "\t\t(2,.,.) = \n",
      "\t\t  5  4\n",
      "\t\t  1  2\n",
      "\t\t[ CPUFloatType{2,2,2} ]\n",
      "\t])\n",
      "])\n",
      "\n"
     ]
    }
   ],
   "source": [
    "# Advanced indexing using binary mask\n",
    "print_eval(\"nt2\")\n",
    "ind = torch.tensor(((1, 0), (0, 1)))\n",
    "print_eval(\"ind\")\n",
    "print_eval(\"nt2[:, :, ind]\")"
   ]
  },
  {
   "cell_type": "code",
   "execution_count": 7,
   "metadata": {},
   "outputs": [
    {
     "data": {
      "text/markdown": [
       "**<span style='color:darkred'>$ nt2</span>**"
      ],
      "text/plain": [
       "<IPython.core.display.Markdown object>"
      ]
     },
     "metadata": {},
     "output_type": "display_data"
    },
    {
     "name": "stdout",
     "output_type": "stream",
     "text": [
      "nested_tensor([\n",
      "\tnested_tensor([\n",
      "\n",
      "\t\t 1.0000  0.5000\n",
      "\t\t 0.1000  0.6000\n",
      "\t\t[ CPUFloatType{2,2} ],\n",
      "\n",
      "\t\t 5.5000  3.3000\n",
      "\t\t 2.2000  6.6000\n",
      "\t\t[ CPUFloatType{2,2} ]\n",
      "\t]),\n",
      "\tnested_tensor([\n",
      "\n",
      "\t\t 3.0000  1.0000\n",
      "\t\t 0.5000  0.7000\n",
      "\t\t[ CPUFloatType{2,2} ],\n",
      "\n",
      "\t\t 5  4\n",
      "\t\t 1  2\n",
      "\t\t[ CPUFloatType{2,2} ]\n",
      "\t])\n",
      "])\n",
      "\n"
     ]
    },
    {
     "data": {
      "text/markdown": [
       "**<span style='color:darkred'>$ nt2[:, :, ..., 0]</span>**"
      ],
      "text/plain": [
       "<IPython.core.display.Markdown object>"
      ]
     },
     "metadata": {},
     "output_type": "display_data"
    },
    {
     "name": "stdout",
     "output_type": "stream",
     "text": [
      "nested_tensor([\n",
      "\tnested_tensor([\n",
      "\n",
      "\t\t 1.0000\n",
      "\t\t 0.1000\n",
      "\t\t[ CPUFloatType{2} ],\n",
      "\n",
      "\t\t 5.5000\n",
      "\t\t 2.2000\n",
      "\t\t[ CPUFloatType{2} ]\n",
      "\t]),\n",
      "\tnested_tensor([\n",
      "\n",
      "\t\t 3.0000\n",
      "\t\t 0.5000\n",
      "\t\t[ CPUFloatType{2} ],\n",
      "\n",
      "\t\t 5\n",
      "\t\t 1\n",
      "\t\t[ CPUFloatType{2} ]\n",
      "\t])\n",
      "])\n",
      "\n",
      "$ nt2[..., 0]\n",
      "First entry of tuple doesn't have accepted type. Ellipsis\n"
     ]
    }
   ],
   "source": [
    "# Ellipsis\n",
    "print_eval(\"nt2\")\n",
    "print_eval(\"nt2[:, :, ..., 0]\")\n",
    "print(\"$ nt2[..., 0]\")\n",
    "try:\n",
    "    nt2[..., 0]\n",
    "except RuntimeError as e:\n",
    "    print(str(e))"
   ]
  },
  {
   "cell_type": "code",
   "execution_count": null,
   "metadata": {},
   "outputs": [],
   "source": []
  }
 ],
 "metadata": {
  "kernelspec": {
   "display_name": "Python 3",
   "language": "python",
   "name": "python3"
  },
  "language_info": {
   "codemirror_mode": {
    "name": "ipython",
    "version": 3
   },
   "file_extension": ".py",
   "mimetype": "text/x-python",
   "name": "python",
   "nbconvert_exporter": "python",
   "pygments_lexer": "ipython3",
   "version": "3.8.2"
  }
 },
 "nbformat": 4,
 "nbformat_minor": 2
}
