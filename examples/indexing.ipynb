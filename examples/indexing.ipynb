{
 "cells": [
  {
   "cell_type": "markdown",
   "metadata": {},
   "source": [
    "## Manipulating shape and indexing"
   ]
  },
  {
   "cell_type": "code",
   "execution_count": 1,
   "metadata": {},
   "outputs": [],
   "source": [
    "import torch\n",
    "import nestedtensor\n",
    "from IPython.display import Markdown, display\n",
    "\n",
    "def print_eval(s):\n",
    "    colorS = \"<span style='color:darkred'>$ {}</span>\".format(s)\n",
    "    display(Markdown('**{}**'.format(colorS))) \n",
    "    print('{}\\n'.format(str(eval(s))))"
   ]
  },
  {
   "cell_type": "code",
   "execution_count": 2,
   "metadata": {},
   "outputs": [
    {
     "data": {
      "text/markdown": [
       "**<span style='color:darkred'>$ nt2</span>**"
      ],
      "text/plain": [
       "<IPython.core.display.Markdown object>"
      ]
     },
     "metadata": {},
     "output_type": "display_data"
    },
    {
     "name": "stdout",
     "output_type": "stream",
     "text": [
      "nested_tensor([\n",
      "\tnested_tensor([\n",
      "\n",
      "\t\t 1.0000  0.5000\n",
      "\t\t 0.1000  0.6000\n",
      "\t\t[ CPUFloatType{2,2} ],\n",
      "\n",
      "\t\t 5.5000  3.3000\n",
      "\t\t 2.2000  6.6000\n",
      "\t\t[ CPUFloatType{2,2} ]\n",
      "\t]),\n",
      "\tnested_tensor([\n",
      "\n",
      "\t\t 3.0000  1.0000\n",
      "\t\t 0.5000  0.7000\n",
      "\t\t[ CPUFloatType{2,2} ],\n",
      "\n",
      "\t\t 5  4\n",
      "\t\t 1  2\n",
      "\t\t[ CPUFloatType{2,2} ]\n",
      "\t])\n",
      "])\n",
      "\n"
     ]
    }
   ],
   "source": [
    "nt2 = nestedtensor.nested_tensor(\n",
    "[\n",
    "    [\n",
    "        torch.tensor([[1.0, 0.5], [0.1, 0.6]]),\n",
    "        torch.tensor([[5.5, 3.3], [2.2, 6.6]])\n",
    "    ],\n",
    "    [\n",
    "        torch.tensor([[3.0, 1.0], [0.5, 0.7]]),\n",
    "        torch.tensor([[5.0, 4.0], [1.0, 2.0]])\n",
    "    ]\n",
    "])\n",
    "print_eval('nt2')"
   ]
  },
  {
   "cell_type": "code",
   "execution_count": 3,
   "metadata": {},
   "outputs": [
    {
     "ename": "RuntimeError",
     "evalue": "Non-zero dimension 1 is currently not supported.",
     "output_type": "error",
     "traceback": [
      "\u001b[0;31m---------------------------------------------------------------------------\u001b[0m",
      "\u001b[0;31mRuntimeError\u001b[0m                              Traceback (most recent call last)",
      "\u001b[0;32m<ipython-input-3-6ad01307d3e7>\u001b[0m in \u001b[0;36m<module>\u001b[0;34m\u001b[0m\n\u001b[0;32m----> 1\u001b[0;31m \u001b[0mnt3\u001b[0m \u001b[0;34m=\u001b[0m \u001b[0mnt2\u001b[0m\u001b[0;34m.\u001b[0m\u001b[0mto_tensor\u001b[0m\u001b[0;34m(\u001b[0m\u001b[0;36m1\u001b[0m\u001b[0;34m)\u001b[0m\u001b[0;34m\u001b[0m\u001b[0;34m\u001b[0m\u001b[0m\n\u001b[0m\u001b[1;32m      2\u001b[0m \u001b[0mprint_eval\u001b[0m\u001b[0;34m(\u001b[0m\u001b[0;34m\"nt2\"\u001b[0m\u001b[0;34m)\u001b[0m\u001b[0;34m\u001b[0m\u001b[0;34m\u001b[0m\u001b[0m\n\u001b[1;32m      3\u001b[0m \u001b[0mprint_eval\u001b[0m\u001b[0;34m(\u001b[0m\u001b[0;34m\"nt3\"\u001b[0m\u001b[0;34m)\u001b[0m\u001b[0;34m\u001b[0m\u001b[0;34m\u001b[0m\u001b[0m\n\u001b[1;32m      4\u001b[0m \u001b[0mprint_eval\u001b[0m\u001b[0;34m(\u001b[0m\u001b[0;34m\"nt3.size()\"\u001b[0m\u001b[0;34m)\u001b[0m\u001b[0;34m\u001b[0m\u001b[0;34m\u001b[0m\u001b[0m\n\u001b[1;32m      5\u001b[0m \u001b[0mprint_eval\u001b[0m\u001b[0;34m(\u001b[0m\u001b[0;34m\"nt3.nested_dim()\"\u001b[0m\u001b[0;34m)\u001b[0m\u001b[0;34m\u001b[0m\u001b[0;34m\u001b[0m\u001b[0m\n",
      "\u001b[0;32m/scratch/cpuhrsch/repos/nestedtensor/nestedtensor/nested/nested.py\u001b[0m in \u001b[0;36mto_tensor\u001b[0;34m(self, dim)\u001b[0m\n\u001b[1;32m    266\u001b[0m         \u001b[0mNot\u001b[0m \u001b[0mnecessarily\u001b[0m \u001b[0ma\u001b[0m \u001b[0mview\u001b[0m\u001b[0;34m.\u001b[0m\u001b[0;34m\u001b[0m\u001b[0;34m\u001b[0m\u001b[0m\n\u001b[1;32m    267\u001b[0m         \"\"\"\n\u001b[0;32m--> 268\u001b[0;31m         \u001b[0;32mreturn\u001b[0m \u001b[0m_wrap_result\u001b[0m\u001b[0;34m(\u001b[0m\u001b[0mtorch\u001b[0m\u001b[0;34m.\u001b[0m\u001b[0mops\u001b[0m\u001b[0;34m.\u001b[0m\u001b[0mnestedtensor\u001b[0m\u001b[0;34m.\u001b[0m\u001b[0mto_tensor\u001b[0m\u001b[0;34m(\u001b[0m\u001b[0mself\u001b[0m\u001b[0;34m.\u001b[0m\u001b[0m_impl\u001b[0m\u001b[0;34m,\u001b[0m \u001b[0mdim\u001b[0m\u001b[0;34m)\u001b[0m\u001b[0;34m)\u001b[0m\u001b[0;34m\u001b[0m\u001b[0;34m\u001b[0m\u001b[0m\n\u001b[0m\u001b[1;32m    269\u001b[0m \u001b[0;34m\u001b[0m\u001b[0m\n\u001b[1;32m    270\u001b[0m     \u001b[0;32mdef\u001b[0m \u001b[0m__repr__\u001b[0m\u001b[0;34m(\u001b[0m\u001b[0mself\u001b[0m\u001b[0;34m)\u001b[0m\u001b[0;34m:\u001b[0m\u001b[0;34m\u001b[0m\u001b[0;34m\u001b[0m\u001b[0m\n",
      "\u001b[0;31mRuntimeError\u001b[0m: Non-zero dimension 1 is currently not supported."
     ]
    }
   ],
   "source": [
    "nt3 = nt2.to_tensor(1)\n",
    "print_eval(\"nt2\")\n",
    "print_eval(\"nt3\")\n",
    "print_eval(\"nt3.size()\")\n",
    "print_eval(\"nt3.nested_dim()\")\n",
    "print_eval(\"nt3.nested_size()\")"
   ]
  },
  {
   "cell_type": "code",
   "execution_count": null,
   "metadata": {},
   "outputs": [],
   "source": [
    "nt4 = nt2.to_tensor(0)\n",
    "print_eval(\"nt2\")\n",
    "print_eval(\"nt4\")\n",
    "print_eval(\"nt4.size()\")\n",
    "# print_eval(\"nt4.nested_dim()\") Will crash. nt4 is a regular Tensor!\n",
    "# print_eval(\"nt4.nested_size()\") Will crash. nt4 is a regular Tensor!"
   ]
  },
  {
   "cell_type": "code",
   "execution_count": null,
   "metadata": {},
   "outputs": [],
   "source": [
    "print_eval(\"nt2\")\n",
    "print_eval(\"nt2[0][0]\")\n",
    "print_eval(\"nt2[0, 0]\")\n",
    "print_eval(\"nt2[:, 0]\")\n",
    "print_eval(\"nt2[0, :]\")"
   ]
  },
  {
   "cell_type": "code",
   "execution_count": null,
   "metadata": {},
   "outputs": [],
   "source": [
    "# Advanced indexing is allowed over tensor dimensions\n",
    "print_eval(\"nt2\")\n",
    "print_eval(\"nt2[:, :, (1, 0)]\")"
   ]
  },
  {
   "cell_type": "code",
   "execution_count": null,
   "metadata": {},
   "outputs": [],
   "source": [
    "# Advanced indexing using binary mask\n",
    "print_eval(\"nt2\")\n",
    "ind = torch.tensor(((1, 0), (0, 1)))\n",
    "print_eval(\"ind\")\n",
    "print_eval(\"nt2[:, :, ind]\")"
   ]
  },
  {
   "cell_type": "code",
   "execution_count": null,
   "metadata": {},
   "outputs": [],
   "source": [
    "# Ellipsis\n",
    "print_eval(\"nt2\")\n",
    "print_eval(\"nt2[:, :, ..., 0]\")\n",
    "print(\"$ nt2[..., 0]\")\n",
    "try:\n",
    "    nt2[..., 0]\n",
    "except NotImplementedError as e:\n",
    "    print(str(e))"
   ]
  },
  {
   "cell_type": "code",
   "execution_count": null,
   "metadata": {},
   "outputs": [],
   "source": []
  }
 ],
 "metadata": {
  "kernelspec": {
   "display_name": "Python 3",
   "language": "python",
   "name": "python3"
  },
  "language_info": {
   "codemirror_mode": {
    "name": "ipython",
    "version": 3
   },
   "file_extension": ".py",
   "mimetype": "text/x-python",
   "name": "python",
   "nbconvert_exporter": "python",
   "pygments_lexer": "ipython3",
   "version": "3.8.2"
  }
 },
 "nbformat": 4,
 "nbformat_minor": 2
}
