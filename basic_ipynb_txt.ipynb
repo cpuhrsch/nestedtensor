{
  "nbformat": 4,
  "nbformat_minor": 0,
  "metadata": {
    "kernelspec": {
      "display_name": "Python 3",
      "language": "python",
      "name": "python3"
    },
    "language_info": {
      "codemirror_mode": {
        "name": "ipython",
        "version": 3
      },
      "file_extension": ".py",
      "mimetype": "text/x-python",
      "name": "python",
      "nbconvert_exporter": "python",
      "pygments_lexer": "ipython3",
      "version": "3.8.2"
    },
    "colab": {
      "name": "basic.ipynb.txt",
      "provenance": [],
      "include_colab_link": true
    }
  },
  "cells": [
    {
      "cell_type": "markdown",
      "metadata": {
        "id": "view-in-github",
        "colab_type": "text"
      },
      "source": [
        "<a href=\"https://colab.research.google.com/github/cpuhrsch/nestedtensor/blob/colab1/basic_ipynb_txt.ipynb\" target=\"_parent\"><img src=\"https://colab.research.google.com/assets/colab-badge.svg\" alt=\"Open In Colab\"/></a>"
      ]
    },
    {
      "cell_type": "markdown",
      "metadata": {
        "id": "PrtYacdyp10q"
      },
      "source": [
        "## Basic properties of NestedTensor\n",
        "\n",
        "This notebook illustries some of the basic properties of NestedTensor such as dim, size and nested_size."
      ]
    },
    {
      "cell_type": "code",
      "metadata": {
        "id": "KQyrvPPwp8lT"
      },
      "source": [
        "%%capture\n",
        "!pip install https://3305-217161669-gh.circle-artifacts.com/0/wheels/torch-1.7.0a0-cp36-cp36m-linux_x86_64.whl;\n",
        "!pip install https://3305-217161669-gh.circle-artifacts.com/0/wheels/nestedtensor-0.0.1.dev202011414-cp36-cp36m-linux_x86_64.whl;"
      ],
      "execution_count": null,
      "outputs": []
    },
    {
      "cell_type": "code",
      "metadata": {
        "id": "INc2SUfcp10r"
      },
      "source": [
        "import torch\n",
        "import nestedtensor\n",
        "from IPython.display import Markdown, display\n",
        "\n",
        "def print_eval(s):\n",
        "    colorS = \"<span style='color:darkred'>$ {}</span>\".format(s)\n",
        "    display(Markdown('**{}**'.format(colorS))) \n",
        "    print('{}\\n'.format(str(eval(s))))"
      ],
      "execution_count": null,
      "outputs": []
    },
    {
      "cell_type": "markdown",
      "metadata": {
        "id": "jzZ7MdcGp10v"
      },
      "source": [
        "Imagine the following is a collection of Grey-scale images. The NestedTensor represents a list with two entries. The first entry of that list is a list of two images, the second entry of that list is a list with one image."
      ]
    },
    {
      "cell_type": "code",
      "metadata": {
        "id": "lIjksAnip10w",
        "outputId": "f0107f84-6af4-4c7d-aadc-cc9447783c2a",
        "colab": {
          "base_uri": "https://localhost:8080/",
          "height": 386
        }
      },
      "source": [
        "nt = nestedtensor.nested_tensor(\n",
        "    [\n",
        "        [\n",
        "            torch.rand(2, 3),\n",
        "            torch.rand(4, 5)\n",
        "        ],\n",
        "        [\n",
        "            torch.rand(1, 2)\n",
        "        ]\n",
        "    ])\n",
        "print_eval(\"nt\")"
      ],
      "execution_count": null,
      "outputs": [
        {
          "output_type": "display_data",
          "data": {
            "text/markdown": "**<span style='color:darkred'>$ nt</span>**",
            "text/plain": [
              "<IPython.core.display.Markdown object>"
            ]
          },
          "metadata": {
            "tags": []
          }
        },
        {
          "output_type": "stream",
          "text": [
            "nested_tensor([\n",
            "\tnested_tensor([\n",
            "\n",
            "\t\t 0.5488  0.2553  0.3716\n",
            "\t\t 0.1600  0.4064  0.3000\n",
            "\t\t[ CPUFloatType{2,3} ],\n",
            "\n",
            "\t\t 0.5025  0.1815  0.6801  0.5718  0.8206\n",
            "\t\t 0.3413  0.9164  0.1536  0.9813  0.6799\n",
            "\t\t 0.0164  0.5178  0.3523  0.3272  0.4092\n",
            "\t\t 0.8055  0.4675  0.0978  0.0171  0.6577\n",
            "\t\t[ CPUFloatType{4,5} ]\n",
            "\t]),\n",
            "\tnested_tensor([\n",
            "\n",
            "\t\t 0.8471  0.4508\n",
            "\t\t[ CPUFloatType{1,2} ]\n",
            "\t])\n",
            "])\n",
            "\n"
          ],
          "name": "stdout"
        }
      ]
    },
    {
      "cell_type": "code",
      "metadata": {
        "id": "Qwavh_Wmp10z",
        "outputId": "9f63c649-27da-49bc-ab53-ee80de7111cf",
        "colab": {
          "base_uri": "https://localhost:8080/",
          "height": 395
        }
      },
      "source": [
        "# Every non-empty NestedTensor is of at least dimension one, because it must represent at least a list.\n",
        "# For each level lists with list entries added we increase the nested dimension by one. That means\n",
        "# this NestedTensor is of dimension two.\n",
        "print_eval(\"nt.nested_dim()\")\n",
        "\n",
        "# The tensor dimension is two, because the Tensor constiuents are of dimension two.\n",
        "print_eval(\"nt.tensor_dim()\")\n",
        "\n",
        "# The dimension is four, because it is the sum of the nested and tensor dimension.\n",
        "print_eval(\"nt.dim()\")\n",
        "\n",
        "# Additional example\n",
        "a = torch.tensor([[1]])\n",
        "b = torch.tensor([[2, 2],\n",
        "                  [3, 3],\n",
        "                  [4, 4],\n",
        "                  [5, 5]])\n",
        "nt2 = nestedtensor.nested_tensor([[a],[b]])\n",
        "print_eval(\"nt2.nested_dim()\")\n",
        "print_eval(\"nt2.tensor_dim()\")\n",
        "print_eval(\"nt2.dim()\")"
      ],
      "execution_count": null,
      "outputs": [
        {
          "output_type": "display_data",
          "data": {
            "text/markdown": "**<span style='color:darkred'>$ nt.nested_dim()</span>**",
            "text/plain": [
              "<IPython.core.display.Markdown object>"
            ]
          },
          "metadata": {
            "tags": []
          }
        },
        {
          "output_type": "stream",
          "text": [
            "2\n",
            "\n"
          ],
          "name": "stdout"
        },
        {
          "output_type": "display_data",
          "data": {
            "text/markdown": "**<span style='color:darkred'>$ nt.tensor_dim()</span>**",
            "text/plain": [
              "<IPython.core.display.Markdown object>"
            ]
          },
          "metadata": {
            "tags": []
          }
        },
        {
          "output_type": "stream",
          "text": [
            "2\n",
            "\n"
          ],
          "name": "stdout"
        },
        {
          "output_type": "display_data",
          "data": {
            "text/markdown": "**<span style='color:darkred'>$ nt.dim()</span>**",
            "text/plain": [
              "<IPython.core.display.Markdown object>"
            ]
          },
          "metadata": {
            "tags": []
          }
        },
        {
          "output_type": "stream",
          "text": [
            "4\n",
            "\n"
          ],
          "name": "stdout"
        },
        {
          "output_type": "display_data",
          "data": {
            "text/markdown": "**<span style='color:darkred'>$ nt2.nested_dim()</span>**",
            "text/plain": [
              "<IPython.core.display.Markdown object>"
            ]
          },
          "metadata": {
            "tags": []
          }
        },
        {
          "output_type": "stream",
          "text": [
            "2\n",
            "\n"
          ],
          "name": "stdout"
        },
        {
          "output_type": "display_data",
          "data": {
            "text/markdown": "**<span style='color:darkred'>$ nt2.tensor_dim()</span>**",
            "text/plain": [
              "<IPython.core.display.Markdown object>"
            ]
          },
          "metadata": {
            "tags": []
          }
        },
        {
          "output_type": "stream",
          "text": [
            "2\n",
            "\n"
          ],
          "name": "stdout"
        },
        {
          "output_type": "display_data",
          "data": {
            "text/markdown": "**<span style='color:darkred'>$ nt2.dim()</span>**",
            "text/plain": [
              "<IPython.core.display.Markdown object>"
            ]
          },
          "metadata": {
            "tags": []
          }
        },
        {
          "output_type": "stream",
          "text": [
            "4\n",
            "\n"
          ],
          "name": "stdout"
        }
      ]
    },
    {
      "cell_type": "markdown",
      "metadata": {
        "id": "5eXI0GE0p102"
      },
      "source": [
        "**nested_size, size and len()** should be part of the bread and butter of a NestedTensor user.\n",
        "\n",
        "Therefore it is important to understand these concepts well.\n",
        "\n",
        "NestedTensor.nested_size is defined as the result of recusrively mapping ```lambda x: x.size()``` onto a NestedTensor's tensor constiuents. Or more loosely defined, it is the result of replacing the Tensor constiuents by their size.\n",
        "\n",
        "NestedTensor.nested_size optionally also accepts a dim argument. This will return a slice across the given dimension. This might be easiest explain via below example.\n",
        "\n",
        "nt.nested_size(0) returns the length of nt or the number of entries in the list it represents. This is very similar to ```list.__len__```.\n",
        "\n",
        "nt.nested_size(1) returns the length of the entries of the outer list.\n",
        "\n",
        "nt.nested_size(2) returns the first entry of each Tensor constiuent's size. \n",
        "\n",
        "nt.nested_size(3) returns the second entry of each Tensor constiuent's size.\n",
        "\n",
        "We will soon define .size and unbind which will make the definition of this even clearer. We will also show some examples that justify these methods.\n"
      ]
    },
    {
      "cell_type": "code",
      "metadata": {
        "scrolled": false,
        "id": "JkHerz5dp104",
        "outputId": "65cc82f6-1ebd-43f0-87f9-c044f5f763d5",
        "colab": {
          "base_uri": "https://localhost:8080/",
          "height": 900
        }
      },
      "source": [
        "print_eval(\"nt\")\n",
        "print_eval(\"nt.nested_size()\")\n",
        "print_eval(\"len(nt)\")\n",
        "print_eval(\"nt.nested_size(0)\")\n",
        "print_eval(\"nt.nested_size(1)\")\n",
        "print_eval(\"nt.nested_size(2)\")\n",
        "print_eval(\"nt.nested_size(3)\")"
      ],
      "execution_count": null,
      "outputs": [
        {
          "output_type": "display_data",
          "data": {
            "text/markdown": "**<span style='color:darkred'>$ nt</span>**",
            "text/plain": [
              "<IPython.core.display.Markdown object>"
            ]
          },
          "metadata": {
            "tags": []
          }
        },
        {
          "output_type": "stream",
          "text": [
            "nested_tensor([\n",
            "\tnested_tensor([\n",
            "\n",
            "\t\t 0.5488  0.2553  0.3716\n",
            "\t\t 0.1600  0.4064  0.3000\n",
            "\t\t[ CPUFloatType{2,3} ],\n",
            "\n",
            "\t\t 0.5025  0.1815  0.6801  0.5718  0.8206\n",
            "\t\t 0.3413  0.9164  0.1536  0.9813  0.6799\n",
            "\t\t 0.0164  0.5178  0.3523  0.3272  0.4092\n",
            "\t\t 0.8055  0.4675  0.0978  0.0171  0.6577\n",
            "\t\t[ CPUFloatType{4,5} ]\n",
            "\t]),\n",
            "\tnested_tensor([\n",
            "\n",
            "\t\t 0.8471  0.4508\n",
            "\t\t[ CPUFloatType{1,2} ]\n",
            "\t])\n",
            "])\n",
            "\n"
          ],
          "name": "stdout"
        },
        {
          "output_type": "display_data",
          "data": {
            "text/markdown": "**<span style='color:darkred'>$ nt.nested_size()</span>**",
            "text/plain": [
              "<IPython.core.display.Markdown object>"
            ]
          },
          "metadata": {
            "tags": []
          }
        },
        {
          "output_type": "stream",
          "text": [
            "NestedSize([\n",
            "\tNestedSize([\n",
            "\t\ttorch.Size([2, 3]),\n",
            "\t\ttorch.Size([4, 5])\n",
            "\t]),\n",
            "\tNestedSize([\n",
            "\t\ttorch.Size([1, 2])\n",
            "\t])\n",
            "])\n",
            "\n"
          ],
          "name": "stdout"
        },
        {
          "output_type": "display_data",
          "data": {
            "text/markdown": "**<span style='color:darkred'>$ len(nt)</span>**",
            "text/plain": [
              "<IPython.core.display.Markdown object>"
            ]
          },
          "metadata": {
            "tags": []
          }
        },
        {
          "output_type": "stream",
          "text": [
            "2\n",
            "\n"
          ],
          "name": "stdout"
        },
        {
          "output_type": "display_data",
          "data": {
            "text/markdown": "**<span style='color:darkred'>$ nt.nested_size(0)</span>**",
            "text/plain": [
              "<IPython.core.display.Markdown object>"
            ]
          },
          "metadata": {
            "tags": []
          }
        },
        {
          "output_type": "stream",
          "text": [
            "2\n",
            "\n"
          ],
          "name": "stdout"
        },
        {
          "output_type": "display_data",
          "data": {
            "text/markdown": "**<span style='color:darkred'>$ nt.nested_size(1)</span>**",
            "text/plain": [
              "<IPython.core.display.Markdown object>"
            ]
          },
          "metadata": {
            "tags": []
          }
        },
        {
          "output_type": "stream",
          "text": [
            "(2, 1)\n",
            "\n"
          ],
          "name": "stdout"
        },
        {
          "output_type": "display_data",
          "data": {
            "text/markdown": "**<span style='color:darkred'>$ nt.nested_size(2)</span>**",
            "text/plain": [
              "<IPython.core.display.Markdown object>"
            ]
          },
          "metadata": {
            "tags": []
          }
        },
        {
          "output_type": "stream",
          "text": [
            "((2, 4), (1,))\n",
            "\n"
          ],
          "name": "stdout"
        },
        {
          "output_type": "display_data",
          "data": {
            "text/markdown": "**<span style='color:darkred'>$ nt.nested_size(3)</span>**",
            "text/plain": [
              "<IPython.core.display.Markdown object>"
            ]
          },
          "metadata": {
            "tags": []
          }
        },
        {
          "output_type": "stream",
          "text": [
            "((3, 5), (2,))\n",
            "\n"
          ],
          "name": "stdout"
        }
      ]
    },
    {
      "cell_type": "markdown",
      "metadata": {
        "id": "NWa7GiL4p107"
      },
      "source": [
        "**NestedTensor.size** is a function that returns a tuple of the format\n",
        "(n_1, n_2, ..., n_nested_dim, t_1, t_2, ..., t_tensor_dim). The sizes lead by n_ are defined \n",
        "to be the nested sizes each at a nested dimension, the sizes lead by t_ are defined to be the \n",
        "tensor sizes each at a tensor dimension. They are a reduced version of nested_size and \n",
        "aim to represent the size across a slice of nested_size.\n",
        "\n",
        "size(i) is of value k if all numerical entries of nested_size(dim) are of value k, otherwise it is None.\n",
        "size() is a tuple with entries size(i)\n",
        "In this case most size(i) will be None, except for the first. We will later see examples of NestedTensors where this is not the case"
      ]
    },
    {
      "cell_type": "code",
      "metadata": {
        "id": "dGUrWpfTp107",
        "outputId": "025ebd0d-54ff-48c5-f64d-c8dbd17bc18b",
        "colab": {
          "base_uri": "https://localhost:8080/",
          "height": 80
        }
      },
      "source": [
        "print_eval(\"nt.size()\")"
      ],
      "execution_count": null,
      "outputs": [
        {
          "output_type": "display_data",
          "data": {
            "text/markdown": "**<span style='color:darkred'>$ nt.size()</span>**",
            "text/plain": [
              "<IPython.core.display.Markdown object>"
            ]
          },
          "metadata": {
            "tags": []
          }
        },
        {
          "output_type": "stream",
          "text": [
            "(2, None, None, None)\n",
            "\n"
          ],
          "name": "stdout"
        }
      ]
    },
    {
      "cell_type": "code",
      "metadata": {
        "id": "57WXcv3Wp10-",
        "outputId": "6bf8b2c1-c35b-485f-c1d3-e6f5363f5567",
        "colab": {
          "base_uri": "https://localhost:8080/",
          "height": 206
        }
      },
      "source": [
        "# The data type, layout and device of a NestedTensor as unsurprisingly that of the Tensor constiuent.\n",
        "# Just as with torch.tensor these properties must align during construction.\n",
        "print_eval(\"nt.dtype\")\n",
        "print_eval(\"nt.layout\")\n",
        "print_eval(\"nt.device\")"
      ],
      "execution_count": null,
      "outputs": [
        {
          "output_type": "display_data",
          "data": {
            "text/markdown": "**<span style='color:darkred'>$ nt.dtype</span>**",
            "text/plain": [
              "<IPython.core.display.Markdown object>"
            ]
          },
          "metadata": {
            "tags": []
          }
        },
        {
          "output_type": "stream",
          "text": [
            "torch.float32\n",
            "\n"
          ],
          "name": "stdout"
        },
        {
          "output_type": "display_data",
          "data": {
            "text/markdown": "**<span style='color:darkred'>$ nt.layout</span>**",
            "text/plain": [
              "<IPython.core.display.Markdown object>"
            ]
          },
          "metadata": {
            "tags": []
          }
        },
        {
          "output_type": "stream",
          "text": [
            "torch.strided\n",
            "\n"
          ],
          "name": "stdout"
        },
        {
          "output_type": "display_data",
          "data": {
            "text/markdown": "**<span style='color:darkred'>$ nt.device</span>**",
            "text/plain": [
              "<IPython.core.display.Markdown object>"
            ]
          },
          "metadata": {
            "tags": []
          }
        },
        {
          "output_type": "stream",
          "text": [
            "cpu\n",
            "\n"
          ],
          "name": "stdout"
        }
      ]
    },
    {
      "cell_type": "markdown",
      "metadata": {
        "id": "iPqP2xMMp11A"
      },
      "source": [
        "### torch.nested_tensor_from_tensor_mask, torch.NestedTensor.to_tensor_mask and more\n",
        "To put NestedTensors in context of current approaches of dealing with variably sized datapoints, such as padding and masking, we will introduce construction and conversion to tensors with masks and tensors with speical non-data identifying values."
      ]
    },
    {
      "cell_type": "code",
      "metadata": {
        "id": "XhSvZdJqp11B",
        "outputId": "312a148b-66e0-462a-82b3-b8404aff90e7",
        "colab": {
          "base_uri": "https://localhost:8080/",
          "height": 779
        }
      },
      "source": [
        "tensor = torch.tensor(\n",
        "        [[[0.8413, 0.7325, 0.0000, 0.0000],\n",
        "         [0.0000, 0.0000, 0.0000, 0.0000],\n",
        "         [0.0000, 0.0000, 0.0000, 0.0000]],\n",
        "\n",
        "        [[0.6334, 0.5473, 0.3273, 0.0564],\n",
        "         [0.3023, 0.6826, 0.3519, 0.1804],\n",
        "         [0.8431, 0.1645, 0.1821, 0.9185]]])\n",
        "mask = torch.tensor(\n",
        "        [[[ True,  True, False, False],\n",
        "         [False, False, False, False],\n",
        "         [False, False, False, False]],\n",
        "\n",
        "        [[ True,  True,  True,  True],\n",
        "         [ True,  True,  True,  True],\n",
        "         [ True,  True,  True,  True]]])\n",
        "print_eval(\"tensor\")\n",
        "print_eval(\"mask\")\n",
        "nt2 = nestedtensor.nested_tensor_from_tensor_mask(tensor, mask)\n",
        "print_eval(\"nestedtensor.nested_tensor_from_tensor_mask(tensor, mask)\")\n",
        "print_eval(\"nestedtensor.nested_tensor_from_padded_tensor(tensor, padding=0)\")"
      ],
      "execution_count": null,
      "outputs": [
        {
          "output_type": "display_data",
          "data": {
            "text/markdown": "**<span style='color:darkred'>$ tensor</span>**",
            "text/plain": [
              "<IPython.core.display.Markdown object>"
            ]
          },
          "metadata": {
            "tags": []
          }
        },
        {
          "output_type": "stream",
          "text": [
            "tensor([[[0.8413, 0.7325, 0.0000, 0.0000],\n",
            "         [0.0000, 0.0000, 0.0000, 0.0000],\n",
            "         [0.0000, 0.0000, 0.0000, 0.0000]],\n",
            "\n",
            "        [[0.6334, 0.5473, 0.3273, 0.0564],\n",
            "         [0.3023, 0.6826, 0.3519, 0.1804],\n",
            "         [0.8431, 0.1645, 0.1821, 0.9185]]])\n",
            "\n"
          ],
          "name": "stdout"
        },
        {
          "output_type": "display_data",
          "data": {
            "text/markdown": "**<span style='color:darkred'>$ mask</span>**",
            "text/plain": [
              "<IPython.core.display.Markdown object>"
            ]
          },
          "metadata": {
            "tags": []
          }
        },
        {
          "output_type": "stream",
          "text": [
            "tensor([[[ True,  True, False, False],\n",
            "         [False, False, False, False],\n",
            "         [False, False, False, False]],\n",
            "\n",
            "        [[ True,  True,  True,  True],\n",
            "         [ True,  True,  True,  True],\n",
            "         [ True,  True,  True,  True]]])\n",
            "\n"
          ],
          "name": "stdout"
        },
        {
          "output_type": "display_data",
          "data": {
            "text/markdown": "**<span style='color:darkred'>$ nestedtensor.nested_tensor_from_tensor_mask(tensor, mask)</span>**",
            "text/plain": [
              "<IPython.core.display.Markdown object>"
            ]
          },
          "metadata": {
            "tags": []
          }
        },
        {
          "output_type": "stream",
          "text": [
            "nested_tensor([\n",
            "\n",
            "\t 0.8413  0.7325\n",
            "\t[ CPUFloatType{1,2} ],\n",
            "\n",
            "\t 0.6334  0.5473  0.3273  0.0564\n",
            "\t 0.3023  0.6826  0.3519  0.1804\n",
            "\t 0.8431  0.1645  0.1821  0.9185\n",
            "\t[ CPUFloatType{3,4} ]\n",
            "])\n",
            "\n"
          ],
          "name": "stdout"
        },
        {
          "output_type": "display_data",
          "data": {
            "text/markdown": "**<span style='color:darkred'>$ nestedtensor.nested_tensor_from_padded_tensor(tensor, padding=0)</span>**",
            "text/plain": [
              "<IPython.core.display.Markdown object>"
            ]
          },
          "metadata": {
            "tags": []
          }
        },
        {
          "output_type": "stream",
          "text": [
            "nested_tensor([\n",
            "\n",
            "\t 0.8413  0.7325\n",
            "\t[ CPUFloatType{1,2} ],\n",
            "\n",
            "\t 0.6334  0.5473  0.3273  0.0564\n",
            "\t 0.3023  0.6826  0.3519  0.1804\n",
            "\t 0.8431  0.1645  0.1821  0.9185\n",
            "\t[ CPUFloatType{3,4} ]\n",
            "])\n",
            "\n"
          ],
          "name": "stdout"
        }
      ]
    },
    {
      "cell_type": "code",
      "metadata": {
        "scrolled": false,
        "id": "5BI-wdEGp11D",
        "outputId": "f4e4bc82-6c81-4ad1-9c62-f1e8c3275e48",
        "colab": {
          "base_uri": "https://localhost:8080/",
          "height": 449
        }
      },
      "source": [
        "print_eval(\"nt2.to_tensor_mask()\")\n",
        "print_eval(\"nt2.to_padded_tensor(padding=-10)\")"
      ],
      "execution_count": null,
      "outputs": [
        {
          "output_type": "display_data",
          "data": {
            "text/markdown": "**<span style='color:darkred'>$ nt2.to_tensor_mask()</span>**",
            "text/plain": [
              "<IPython.core.display.Markdown object>"
            ]
          },
          "metadata": {
            "tags": []
          }
        },
        {
          "output_type": "stream",
          "text": [
            "(tensor([[[0.8413, 0.7325, 0.0000, 0.0000],\n",
            "         [0.0000, 0.0000, 0.0000, 0.0000],\n",
            "         [0.0000, 0.0000, 0.0000, 0.0000]],\n",
            "\n",
            "        [[0.6334, 0.5473, 0.3273, 0.0564],\n",
            "         [0.3023, 0.6826, 0.3519, 0.1804],\n",
            "         [0.8431, 0.1645, 0.1821, 0.9185]]]), tensor([[[ True,  True, False, False],\n",
            "         [False, False, False, False],\n",
            "         [False, False, False, False]],\n",
            "\n",
            "        [[ True,  True,  True,  True],\n",
            "         [ True,  True,  True,  True],\n",
            "         [ True,  True,  True,  True]]]))\n",
            "\n"
          ],
          "name": "stdout"
        },
        {
          "output_type": "display_data",
          "data": {
            "text/markdown": "**<span style='color:darkred'>$ nt2.to_padded_tensor(padding=-10)</span>**",
            "text/plain": [
              "<IPython.core.display.Markdown object>"
            ]
          },
          "metadata": {
            "tags": []
          }
        },
        {
          "output_type": "stream",
          "text": [
            "tensor([[[  0.8413,   0.7325, -10.0000, -10.0000],\n",
            "         [-10.0000, -10.0000, -10.0000, -10.0000],\n",
            "         [-10.0000, -10.0000, -10.0000, -10.0000]],\n",
            "\n",
            "        [[  0.6334,   0.5473,   0.3273,   0.0564],\n",
            "         [  0.3023,   0.6826,   0.3519,   0.1804],\n",
            "         [  0.8431,   0.1645,   0.1821,   0.9185]]])\n",
            "\n"
          ],
          "name": "stdout"
        }
      ]
    },
    {
      "cell_type": "markdown",
      "metadata": {
        "id": "t8aq_oDKp11F"
      },
      "source": [
        "**unbind** is a fundamental building block of NestedTensors. Applying unbind to a NestedTensor will return the constiuents of the list it represents. More importantly, it returns a few of these elements. It does not take a dim argument, for now, in comparison to torch.Tensor.unbind."
      ]
    },
    {
      "cell_type": "code",
      "metadata": {
        "scrolled": true,
        "id": "6_rG8Ksip11G",
        "outputId": "5114b412-fa40-4e3a-fa50-fc73d71b1c5c",
        "colab": {
          "base_uri": "https://localhost:8080/",
          "height": 398
        }
      },
      "source": [
        "entries = nt.unbind()\n",
        "print_eval('entries[0]')\n",
        "print_eval('entries[1]')"
      ],
      "execution_count": null,
      "outputs": [
        {
          "output_type": "display_data",
          "data": {
            "text/markdown": "**<span style='color:darkred'>$ entries[0]</span>**",
            "text/plain": [
              "<IPython.core.display.Markdown object>"
            ]
          },
          "metadata": {
            "tags": []
          }
        },
        {
          "output_type": "stream",
          "text": [
            "nested_tensor([\n",
            "\n",
            "\t 0.5488  0.2553  0.3716\n",
            "\t 0.1600  0.4064  0.3000\n",
            "\t[ CPUFloatType{2,3} ],\n",
            "\n",
            "\t 0.5025  0.1815  0.6801  0.5718  0.8206\n",
            "\t 0.3413  0.9164  0.1536  0.9813  0.6799\n",
            "\t 0.0164  0.5178  0.3523  0.3272  0.4092\n",
            "\t 0.8055  0.4675  0.0978  0.0171  0.6577\n",
            "\t[ CPUFloatType{4,5} ]\n",
            "])\n",
            "\n"
          ],
          "name": "stdout"
        },
        {
          "output_type": "display_data",
          "data": {
            "text/markdown": "**<span style='color:darkred'>$ entries[1]</span>**",
            "text/plain": [
              "<IPython.core.display.Markdown object>"
            ]
          },
          "metadata": {
            "tags": []
          }
        },
        {
          "output_type": "stream",
          "text": [
            "nested_tensor([\n",
            "\n",
            "\t 0.8471  0.4508\n",
            "\t[ CPUFloatType{1,2} ]\n",
            "])\n",
            "\n"
          ],
          "name": "stdout"
        }
      ]
    },
    {
      "cell_type": "code",
      "metadata": {
        "id": "FvfeQ7hvp11I",
        "outputId": "29c3dff3-fc5e-4bce-fbfd-7143a5aa3d21",
        "colab": {
          "base_uri": "https://localhost:8080/",
          "height": 386
        }
      },
      "source": [
        "# Edit the first entry of the first list in-place. You can see that the memory is shared between these constructs.\n",
        "entries[0].unbind()[0].cos_()\n",
        "print_eval('nt')"
      ],
      "execution_count": null,
      "outputs": [
        {
          "output_type": "display_data",
          "data": {
            "text/markdown": "**<span style='color:darkred'>$ nt</span>**",
            "text/plain": [
              "<IPython.core.display.Markdown object>"
            ]
          },
          "metadata": {
            "tags": []
          }
        },
        {
          "output_type": "stream",
          "text": [
            "nested_tensor([\n",
            "\tnested_tensor([\n",
            "\n",
            "\t\t 0.8532  0.9676  0.9318\n",
            "\t\t 0.9872  0.9185  0.9553\n",
            "\t\t[ CPUFloatType{2,3} ],\n",
            "\n",
            "\t\t 0.5025  0.1815  0.6801  0.5718  0.8206\n",
            "\t\t 0.3413  0.9164  0.1536  0.9813  0.6799\n",
            "\t\t 0.0164  0.5178  0.3523  0.3272  0.4092\n",
            "\t\t 0.8055  0.4675  0.0978  0.0171  0.6577\n",
            "\t\t[ CPUFloatType{4,5} ]\n",
            "\t]),\n",
            "\tnested_tensor([\n",
            "\n",
            "\t\t 0.8471  0.4508\n",
            "\t\t[ CPUFloatType{1,2} ]\n",
            "\t])\n",
            "])\n",
            "\n"
          ],
          "name": "stdout"
        }
      ]
    }
  ]
}